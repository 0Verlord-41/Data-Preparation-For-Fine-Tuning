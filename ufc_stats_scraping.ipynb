{
  "cells": [
    {
      "cell_type": "code",
      "execution_count": null,
      "metadata": {
        "colab": {
          "base_uri": "https://localhost:8080/"
        },
        "id": "mcim6LaT1vHN",
        "outputId": "3b32894d-ec27-4a95-9017-9a30281c5aa8"
      },
      "outputs": [
        {
          "name": "stdout",
          "output_type": "stream",
          "text": [
            "Requirement already satisfied: requests in /usr/local/lib/python3.11/dist-packages (2.32.3)\n",
            "Requirement already satisfied: beautifulsoup4 in /usr/local/lib/python3.11/dist-packages (4.13.3)\n",
            "Requirement already satisfied: pandas in /usr/local/lib/python3.11/dist-packages (2.2.2)\n",
            "Requirement already satisfied: charset-normalizer<4,>=2 in /usr/local/lib/python3.11/dist-packages (from requests) (3.4.1)\n",
            "Requirement already satisfied: idna<4,>=2.5 in /usr/local/lib/python3.11/dist-packages (from requests) (3.10)\n",
            "Requirement already satisfied: urllib3<3,>=1.21.1 in /usr/local/lib/python3.11/dist-packages (from requests) (2.3.0)\n",
            "Requirement already satisfied: certifi>=2017.4.17 in /usr/local/lib/python3.11/dist-packages (from requests) (2025.1.31)\n",
            "Requirement already satisfied: soupsieve>1.2 in /usr/local/lib/python3.11/dist-packages (from beautifulsoup4) (2.6)\n",
            "Requirement already satisfied: typing-extensions>=4.0.0 in /usr/local/lib/python3.11/dist-packages (from beautifulsoup4) (4.13.1)\n",
            "Requirement already satisfied: numpy>=1.23.2 in /usr/local/lib/python3.11/dist-packages (from pandas) (2.0.2)\n",
            "Requirement already satisfied: python-dateutil>=2.8.2 in /usr/local/lib/python3.11/dist-packages (from pandas) (2.8.2)\n",
            "Requirement already satisfied: pytz>=2020.1 in /usr/local/lib/python3.11/dist-packages (from pandas) (2025.2)\n",
            "Requirement already satisfied: tzdata>=2022.7 in /usr/local/lib/python3.11/dist-packages (from pandas) (2025.2)\n",
            "Requirement already satisfied: six>=1.5 in /usr/local/lib/python3.11/dist-packages (from python-dateutil>=2.8.2->pandas) (1.17.0)\n"
          ]
        }
      ],
      "source": [
        "!pip3 install requests beautifulsoup4 pandas"
      ]
    },
    {
      "cell_type": "code",
      "execution_count": 4,
      "metadata": {
        "id": "LhvY2bR232_R"
      },
      "outputs": [],
      "source": [
        "import requests\n",
        "from bs4 import BeautifulSoup\n",
        "import pandas as pd\n",
        "\n",
        "import time"
      ]
    },
    {
      "cell_type": "code",
      "execution_count": 5,
      "metadata": {
        "colab": {
          "base_uri": "https://localhost:8080/"
        },
        "id": "W7rhnmRn9cun",
        "outputId": "380aed6f-9e5e-4188-e6d0-626f4e131e21"
      },
      "outputs": [
        {
          "name": "stdout",
          "output_type": "stream",
          "text": [
            "Found 336648 Fighters.\n"
          ]
        }
      ],
      "source": [
        "base_url = \"http://ufcstats.com/statistics/fighters?char={}&page=all\"\n",
        "headers_conf = {\"User-Agent\": \"Mozilla/5.0\"}\n",
        "\n",
        "fighter_list = []\n",
        "\n",
        "for letter in range(65, 91):\n",
        "  url = base_url.format(letter)\n",
        "  resp = requests.get(url, headers=headers_conf)\n",
        "  soup = BeautifulSoup(resp.content, 'html.parser')\n",
        "  table = soup.find(\"table\", class_=\"b-statistics__table\")\n",
        "\n",
        "  if table:\n",
        "    links = table.find_all(\"a\", href=True)\n",
        "    for link in links:\n",
        "      href = link[\"href\"]\n",
        "      if \"/fighter-details/\" in href:\n",
        "        fighter_list.append(href)\n",
        "\n",
        "print(f\"Found {len(fighter_list)} Fighters.\")"
      ]
    },
    {
      "cell_type": "code",
      "execution_count": null,
      "metadata": {
        "colab": {
          "base_uri": "https://localhost:8080/"
        },
        "id": "lpC0f7SQ1XL6",
        "outputId": "1b5da5e1-7dd0-408f-d565-6ded4a0402a5"
      },
      "outputs": [
        {
          "name": "stdout",
          "output_type": "stream",
          "text": [
            "Scapped successfully and saved to fighter_data.csv.\n"
          ]
        }
      ],
      "source": [
        "# Scrape profile data\n",
        "fighter_data = []\n",
        "\n",
        "def get_text(soup, selector):\n",
        "  el = soup.select_one(selector)\n",
        "  return el.get_text(strip=True) if el else \"\"\n",
        "\n",
        "for link in fighter_list[:100]:\n",
        "  resp = requests.get(link, headers=headers_conf)\n",
        "  soup = BeautifulSoup(resp.content, \"html.parser\")\n",
        "\n",
        "  name = get_text(soup, \"span.b-content__title-highlight\")\n",
        "  height_raw = get_text(soup, \"li.b-list__box-list-item\")\n",
        "  height = height_raw.replace(\"Height:\", \"\")\n",
        "  weight_raw = get_text(soup, \"li.b-list__box-list-item:nth-of-type(2)\")\n",
        "  weight = weight_raw.replace(\"Weight:\", \"\")\n",
        "  reach_raw = get_text(soup, \"li.b-list__box-list-item:nth-of-type(3)\")\n",
        "  reach = reach_raw.replace(\"Reach:\", \"\")\n",
        "  stance_raw = get_text(soup, \"li.b-list__box-list-item:nth-of-type(4)\")\n",
        "  stance = stance_raw.replace(\"STANCE:\", \"\")\n",
        "  dob_raw = get_text(soup, \"li.b-list__box-list-item:nth-of-type(5)\")\n",
        "  dob = dob_raw.replace(\"DOB:\", \"\")\n",
        "  record_raw = get_text(soup, \"span.b-content__title-record\")\n",
        "  records = record_raw.replace(\"Record: \", \"\").split(\"-\")\n",
        "\n",
        "  wins, losses, draws = (records + [0,0,0])[:3]\n",
        "\n",
        "  stats_table = soup.find(\"div\", class_=\"b-list__info-box-left\")\n",
        "  stats = {}\n",
        "\n",
        "  if stats_table:\n",
        "    stats_rows = stats_table.find_all(\"li\")\n",
        "    for row in stats_rows[:4]:\n",
        "      stat_row = row.get_text(strip=True).split(\":\")\n",
        "      stat_name = stat_row[0]\n",
        "      stat_value = stat_row[1]\n",
        "      stats[stat_name] = stat_value\n",
        "\n",
        "  fighter_data.append({\n",
        "      \"name\": name,\n",
        "      \"height\": height,\n",
        "      \"reach\": reach,\n",
        "      \"stance\": stance,\n",
        "      \"dob\": dob,\n",
        "      \"wins\": wins,\n",
        "      \"losses\": losses,\n",
        "      \"draws\": draws,\n",
        "      **stats,\n",
        "      \"profile_url\": link\n",
        "  })\n",
        "\n",
        "  time.sleep(2)\n",
        "\n",
        "# convert to dataframe\n",
        "df = pd.DataFrame(fighter_data)\n",
        "# save to csv\n",
        "df.to_csv(\"fighter_data.csv\", index=False)\n",
        "\n",
        "print(\"Scapped successfully and saved to fighter_data.csv.\")"
      ]
    }
  ],
  "metadata": {
    "colab": {
      "provenance": [],
      "toc_visible": true
    },
    "kernelspec": {
      "display_name": "Python 3",
      "name": "python3"
    },
    "language_info": {
      "name": "python"
    }
  },
  "nbformat": 4,
  "nbformat_minor": 0
}
